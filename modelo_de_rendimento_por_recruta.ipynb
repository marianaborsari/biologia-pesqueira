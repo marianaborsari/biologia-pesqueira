{
  "nbformat": 4,
  "nbformat_minor": 0,
  "metadata": {
    "colab": {
      "name": "modelo de rendimento por recruta.ipynb",
      "provenance": [],
      "authorship_tag": "ABX9TyPqfHoYKTRvrPnDfV8CtB/0",
      "include_colab_link": true
    },
    "kernelspec": {
      "name": "python3",
      "display_name": "Python 3"
    }
  },
  "cells": [
    {
      "cell_type": "markdown",
      "metadata": {
        "id": "view-in-github",
        "colab_type": "text"
      },
      "source": [
        "<a href=\"https://colab.research.google.com/github/marianaborsari/biologia-pesqueira/blob/master/modelo_de_rendimento_por_recruta.ipynb\" target=\"_parent\"><img src=\"https://colab.research.google.com/assets/colab-badge.svg\" alt=\"Open In Colab\"/></a>"
      ]
    },
    {
      "cell_type": "markdown",
      "metadata": {
        "id": "FiGuvRzK5gF2",
        "colab_type": "text"
      },
      "source": [
        "# **MODELO DE RENDIMENTO POR RECRUTA DE BEVERTON & HOLT**\n",
        "\n",
        "Este modelo expressa a captura (quantidade da pesca) em uma “base por recruta”, ou seja, as capturas  relativas ao recrutamento dos organismos capturados.\n",
        "\n",
        "Recrutamento é a inserção na população dos indivíduos que se tornam aptos à pesca, os recrutas.\n",
        "\n",
        "O modelo nos permite calcular Y/R variando os valores de entrada dos diferentes parâmetros, tais como F e Tc, e então avaliar o efeito destes parâmetros sobre a captura por recruta da espécie sob investigação. \n",
        "\n",
        "\n",
        "Portanto, Y/R é considerado uma função de F e Tc. No entanto os gráficos são comumente plotados como Y/R por F.\n",
        "\n",
        "É importante notar aqui que os dois parâmetros F e Tc são os que podem ser controlados pelos gestores da pesca, pois: F é proporcional ao esforço e Tc (tamanho mínimo de capura) é uma função da seletividade da arte.\n",
        "\n",
        "\n",
        "---\n",
        "\n",
        "\n",
        "\n",
        "*Objetivo:* Com dados de Esforço (F) e alguns parâmetros pré definidos, traçar curvas Y/R (captura por recruta) e B/R (biomassa por recruta)\n",
        "\n",
        "*Parâmetros utilizados:* $W_{\\infty} = 64, K = 1,  t_{0} = -0.2,  T_{r} = 0.2$ e $M = 1.8$\n",
        "\n",
        "\n",
        "Índice de abreviações:\n",
        "\n",
        "$K$ = parâmetro de crescimento de von Bertalanffy\n",
        "\n",
        "$t_{o}$ = parâmetro de crescimento de von Bertalanffy\n",
        "\n",
        "$T_{c}$ = idade da primeira captura\n",
        "\n",
        "$W_{\\infty}$ = peso assintótico\n",
        "\n",
        "$M$ = mortalidade natural\n",
        "\n",
        "$Z = F+M$, mortalidade total\n",
        "\n",
        "Mais informações e fonte da teoria: http://www.fao.org/3/w5448p/W5448P14.htm\n"
      ]
    },
    {
      "cell_type": "code",
      "metadata": {
        "id": "1PEGJfAQ4yDh",
        "colab_type": "code",
        "colab": {}
      },
      "source": [
        "import numpy as np\n",
        "import matplotlib.pyplot as plt\n",
        "import pandas as pd\n",
        "\n",
        "plt.rcParams['figure.figsize'] = (8,7)"
      ],
      "execution_count": 0,
      "outputs": []
    },
    {
      "cell_type": "code",
      "metadata": {
        "id": "CZL0iW_16vHX",
        "colab_type": "code",
        "colab": {}
      },
      "source": [
        "F = np.array([0,0.2,0.4,0.6,0.8,1,1.2,1.4,1.6,1.8,2,2.2,2.4,2.6,2.8,3,3.5,4,4.5,5,100]) #Input manual dos dados de captura"
      ],
      "execution_count": 0,
      "outputs": []
    },
    {
      "cell_type": "markdown",
      "metadata": {
        "id": "tyzmy2ELAmo7",
        "colab_type": "text"
      },
      "source": [
        "Calcular o S expresso pela seguinte fórmula:\n",
        "\n",
        "$ S = e^{-K*(Tc-t_{0})}$"
      ]
    },
    {
      "cell_type": "code",
      "metadata": {
        "id": "sNZZmqj6ANTQ",
        "colab_type": "code",
        "colab": {}
      },
      "source": [
        "def calc_S (Tc):\n",
        "    s = (1/(np.exp(Tc+0.2)))\n",
        "    return s"
      ],
      "execution_count": 0,
      "outputs": []
    },
    {
      "cell_type": "markdown",
      "metadata": {
        "id": "FR4pU7sfBTVa",
        "colab_type": "text"
      },
      "source": [
        "Calcular o exponencial pertencente à fórmula geral\n",
        "\n",
        "$E = e^{-M*(Tc-Tr)}$"
      ]
    },
    {
      "cell_type": "code",
      "metadata": {
        "id": "gZQL2-djB6Po",
        "colab_type": "code",
        "colab": {}
      },
      "source": [
        "def calc_exp (Tc):\n",
        "    e = (1/(np.exp(1.8*(Tc-0.2))))\n",
        "    return e"
      ],
      "execution_count": 0,
      "outputs": []
    },
    {
      "cell_type": "markdown",
      "metadata": {
        "id": "KRu0haPAB9Q9",
        "colab_type": "text"
      },
      "source": [
        "Calcular os valores de Y/R seguindo a fórmula:\n",
        "\n",
        "$Y/R = F * E * W_{inf} * (\\frac {1}{Z}-\\frac {3S}{Z+K}+ \\frac {3S^2}{Z+2K} - \\frac {3S^2}{Z+3K})  $"
      ]
    },
    {
      "cell_type": "code",
      "metadata": {
        "id": "354SCrlTCAHA",
        "colab_type": "code",
        "colab": {}
      },
      "source": [
        "def calcula_YR (F,Tc):\n",
        "    Winf, K, Tr, M = 64, 1, 0.2, 1.8\n",
        "    S = calc_S(Tc)\n",
        "    e = calc_exp (Tc)\n",
        "        \n",
        "    l = []\n",
        "    for i in F:\n",
        "        b = i*e*Winf*((1/(i+M)) - ((3*S)/(i+M+1)) + ((3*S*S)/(i+M+2*K)) - ((S**3)/(i+M+3*K)))\n",
        "        l.append(b)\n",
        "    \n",
        "    YR = np.array (l)\n",
        "    return YR  "
      ],
      "execution_count": 0,
      "outputs": []
    },
    {
      "cell_type": "code",
      "metadata": {
        "id": "2FTE1XBhDGpJ",
        "colab_type": "code",
        "outputId": "ccb52f6a-0f88-48f8-efe6-0cb8cb294edd",
        "colab": {
          "base_uri": "https://localhost:8080/",
          "height": 768
        }
      },
      "source": [
        "YR02 = calcula_YR(F,0.2)\n",
        "max02 = np.amax(YR02)\n",
        "YR03 = calcula_YR(F,0.3)\n",
        "max03 = np.amax(YR03)\n",
        "YR1 = calcula_YR(F,1)\n",
        "max10 = np.amax(YR1)\n",
        "\n",
        "print(\"Valores MSY para cada valor de Tc utilizado:\", \n",
        "      \"\\n\", \"Tc = 0.2 ->\", max02, \n",
        "      \"\\n\", \"Tc = 0.3 ->\",  max03, \n",
        "      \"\\n\", \"Tc = 1 ->  \", max10)\n",
        "\n",
        "df_yr = pd.DataFrame({'F':F,'Y/R Tc = 0.2':YR02,'Y/R Tc = 0.3':YR03,'Y/R Tc = 1':YR1})\n",
        "df_yr"
      ],
      "execution_count": 0,
      "outputs": [
        {
          "output_type": "stream",
          "text": [
            "Valores MSY para cada valor de Tc utilizado: \n",
            " Tc = 0.2 -> 4.145815150870441 \n",
            " Tc = 0.3 -> 4.5391498281086005 \n",
            " Tc = 1 ->   5.147438621450801\n"
          ],
          "name": "stdout"
        },
        {
          "output_type": "execute_result",
          "data": {
            "text/html": [
              "<div>\n",
              "<style scoped>\n",
              "    .dataframe tbody tr th:only-of-type {\n",
              "        vertical-align: middle;\n",
              "    }\n",
              "\n",
              "    .dataframe tbody tr th {\n",
              "        vertical-align: top;\n",
              "    }\n",
              "\n",
              "    .dataframe thead th {\n",
              "        text-align: right;\n",
              "    }\n",
              "</style>\n",
              "<table border=\"1\" class=\"dataframe\">\n",
              "  <thead>\n",
              "    <tr style=\"text-align: right;\">\n",
              "      <th></th>\n",
              "      <th>F</th>\n",
              "      <th>Y/R Tc = 0.2</th>\n",
              "      <th>Y/R Tc = 0.3</th>\n",
              "      <th>Y/R Tc = 1</th>\n",
              "    </tr>\n",
              "  </thead>\n",
              "  <tbody>\n",
              "    <tr>\n",
              "      <th>0</th>\n",
              "      <td>0.0</td>\n",
              "      <td>0.000000</td>\n",
              "      <td>0.000000</td>\n",
              "      <td>0.000000</td>\n",
              "    </tr>\n",
              "    <tr>\n",
              "      <th>1</th>\n",
              "      <td>0.2</td>\n",
              "      <td>1.362404</td>\n",
              "      <td>1.333790</td>\n",
              "      <td>0.792679</td>\n",
              "    </tr>\n",
              "    <tr>\n",
              "      <th>2</th>\n",
              "      <td>0.4</td>\n",
              "      <td>2.282181</td>\n",
              "      <td>2.261978</td>\n",
              "      <td>1.405462</td>\n",
              "    </tr>\n",
              "    <tr>\n",
              "      <th>3</th>\n",
              "      <td>0.6</td>\n",
              "      <td>2.910403</td>\n",
              "      <td>2.918738</td>\n",
              "      <td>1.889662</td>\n",
              "    </tr>\n",
              "    <tr>\n",
              "      <th>4</th>\n",
              "      <td>0.8</td>\n",
              "      <td>3.341890</td>\n",
              "      <td>3.389187</td>\n",
              "      <td>2.279418</td>\n",
              "    </tr>\n",
              "    <tr>\n",
              "      <th>5</th>\n",
              "      <td>1.0</td>\n",
              "      <td>3.637977</td>\n",
              "      <td>3.729010</td>\n",
              "      <td>2.598179</td>\n",
              "    </tr>\n",
              "    <tr>\n",
              "      <th>6</th>\n",
              "      <td>1.2</td>\n",
              "      <td>3.839358</td>\n",
              "      <td>3.975596</td>\n",
              "      <td>2.862503</td>\n",
              "    </tr>\n",
              "    <tr>\n",
              "      <th>7</th>\n",
              "      <td>1.4</td>\n",
              "      <td>3.973626</td>\n",
              "      <td>4.154621</td>\n",
              "      <td>3.084354</td>\n",
              "    </tr>\n",
              "    <tr>\n",
              "      <th>8</th>\n",
              "      <td>1.6</td>\n",
              "      <td>4.059838</td>\n",
              "      <td>4.284059</td>\n",
              "      <td>3.272560</td>\n",
              "    </tr>\n",
              "    <tr>\n",
              "      <th>9</th>\n",
              "      <td>1.8</td>\n",
              "      <td>4.111372</td>\n",
              "      <td>4.376707</td>\n",
              "      <td>3.433751</td>\n",
              "    </tr>\n",
              "    <tr>\n",
              "      <th>10</th>\n",
              "      <td>2.0</td>\n",
              "      <td>4.137745</td>\n",
              "      <td>4.441814</td>\n",
              "      <td>3.572989</td>\n",
              "    </tr>\n",
              "    <tr>\n",
              "      <th>11</th>\n",
              "      <td>2.2</td>\n",
              "      <td>4.145815</td>\n",
              "      <td>4.486152</td>\n",
              "      <td>3.694192</td>\n",
              "    </tr>\n",
              "    <tr>\n",
              "      <th>12</th>\n",
              "      <td>2.4</td>\n",
              "      <td>4.140572</td>\n",
              "      <td>4.514736</td>\n",
              "      <td>3.800434</td>\n",
              "    </tr>\n",
              "    <tr>\n",
              "      <th>13</th>\n",
              "      <td>2.6</td>\n",
              "      <td>4.125677</td>\n",
              "      <td>4.531320</td>\n",
              "      <td>3.894153</td>\n",
              "    </tr>\n",
              "    <tr>\n",
              "      <th>14</th>\n",
              "      <td>2.8</td>\n",
              "      <td>4.103841</td>\n",
              "      <td>4.538739</td>\n",
              "      <td>3.977307</td>\n",
              "    </tr>\n",
              "    <tr>\n",
              "      <th>15</th>\n",
              "      <td>3.0</td>\n",
              "      <td>4.077080</td>\n",
              "      <td>4.539150</td>\n",
              "      <td>4.051479</td>\n",
              "    </tr>\n",
              "    <tr>\n",
              "      <th>16</th>\n",
              "      <td>3.5</td>\n",
              "      <td>3.997617</td>\n",
              "      <td>4.519470</td>\n",
              "      <td>4.205558</td>\n",
              "    </tr>\n",
              "    <tr>\n",
              "      <th>17</th>\n",
              "      <td>4.0</td>\n",
              "      <td>3.910804</td>\n",
              "      <td>4.482529</td>\n",
              "      <td>4.325841</td>\n",
              "    </tr>\n",
              "    <tr>\n",
              "      <th>18</th>\n",
              "      <td>4.5</td>\n",
              "      <td>3.823993</td>\n",
              "      <td>4.437562</td>\n",
              "      <td>4.421866</td>\n",
              "    </tr>\n",
              "    <tr>\n",
              "      <th>19</th>\n",
              "      <td>5.0</td>\n",
              "      <td>3.740687</td>\n",
              "      <td>4.389609</td>\n",
              "      <td>4.499985</td>\n",
              "    </tr>\n",
              "    <tr>\n",
              "      <th>20</th>\n",
              "      <td>100.0</td>\n",
              "      <td>2.391740</td>\n",
              "      <td>3.347073</td>\n",
              "      <td>5.147439</td>\n",
              "    </tr>\n",
              "  </tbody>\n",
              "</table>\n",
              "</div>"
            ],
            "text/plain": [
              "        F  Y/R Tc = 0.2  Y/R Tc = 0.3  Y/R Tc = 1\n",
              "0     0.0      0.000000      0.000000    0.000000\n",
              "1     0.2      1.362404      1.333790    0.792679\n",
              "2     0.4      2.282181      2.261978    1.405462\n",
              "3     0.6      2.910403      2.918738    1.889662\n",
              "4     0.8      3.341890      3.389187    2.279418\n",
              "5     1.0      3.637977      3.729010    2.598179\n",
              "6     1.2      3.839358      3.975596    2.862503\n",
              "7     1.4      3.973626      4.154621    3.084354\n",
              "8     1.6      4.059838      4.284059    3.272560\n",
              "9     1.8      4.111372      4.376707    3.433751\n",
              "10    2.0      4.137745      4.441814    3.572989\n",
              "11    2.2      4.145815      4.486152    3.694192\n",
              "12    2.4      4.140572      4.514736    3.800434\n",
              "13    2.6      4.125677      4.531320    3.894153\n",
              "14    2.8      4.103841      4.538739    3.977307\n",
              "15    3.0      4.077080      4.539150    4.051479\n",
              "16    3.5      3.997617      4.519470    4.205558\n",
              "17    4.0      3.910804      4.482529    4.325841\n",
              "18    4.5      3.823993      4.437562    4.421866\n",
              "19    5.0      3.740687      4.389609    4.499985\n",
              "20  100.0      2.391740      3.347073    5.147439"
            ]
          },
          "metadata": {
            "tags": []
          },
          "execution_count": 18
        }
      ]
    },
    {
      "cell_type": "markdown",
      "metadata": {
        "id": "JJFGuAT4EIIv",
        "colab_type": "text"
      },
      "source": [
        "Calcular B/R utilizando\n",
        "\n",
        "$B/R = \\frac{Y/R}{F}$"
      ]
    },
    {
      "cell_type": "code",
      "metadata": {
        "id": "uJ8_PP6zEADE",
        "colab_type": "code",
        "colab": {}
      },
      "source": [
        "def calcula_BR (YR,F):\n",
        "    l = [0]\n",
        "    for i in range(1,len(F)):\n",
        "        n = YR[i]/(F[i])\n",
        "        l.append(n)\n",
        "    \n",
        "    BR = np.array(l)\n",
        "    return BR"
      ],
      "execution_count": 0,
      "outputs": []
    },
    {
      "cell_type": "code",
      "metadata": {
        "id": "yfSgopLDEjzH",
        "colab_type": "code",
        "outputId": "08e527fe-f56e-44fa-fcfe-4c2a13c3c6a4",
        "colab": {
          "base_uri": "https://localhost:8080/",
          "height": 768
        }
      },
      "source": [
        "BR02 = calcula_BR(YR02,F)\n",
        "max2 = np.amax(BR02)\n",
        "BR03 = calcula_BR(YR03,F)\n",
        "max3 = np.amax(BR03)\n",
        "BR1 = calcula_BR(YR1,F)\n",
        "max1 = np.amax(BR1)\n",
        "\n",
        "print(\"Valores BMSY para cada valor de Tc utilizado:\", \n",
        "      \"\\n\", \"Tc = 0.2 ->\", max2, \n",
        "      \"\\n\", \"Tc = 0.3 ->\",  max3, \n",
        "      \"\\n\", \"Tc = 1 ->  \", max1)\n",
        "\n",
        "df_br = pd.DataFrame({'F':F,'B/R Tc = 0.2':BR02,'B/R Tc = 0.3':BR03,'B/R Tc = 1':BR1})\n",
        "df_br"
      ],
      "execution_count": 0,
      "outputs": [
        {
          "output_type": "stream",
          "text": [
            "Valores BMSY para cada valor de Tc utilizado: \n",
            " Tc = 0.2 -> 6.812021418869538 \n",
            " Tc = 0.3 -> 6.668951813312822 \n",
            " Tc = 1 ->   3.9633959123094\n"
          ],
          "name": "stdout"
        },
        {
          "output_type": "execute_result",
          "data": {
            "text/html": [
              "<div>\n",
              "<style scoped>\n",
              "    .dataframe tbody tr th:only-of-type {\n",
              "        vertical-align: middle;\n",
              "    }\n",
              "\n",
              "    .dataframe tbody tr th {\n",
              "        vertical-align: top;\n",
              "    }\n",
              "\n",
              "    .dataframe thead th {\n",
              "        text-align: right;\n",
              "    }\n",
              "</style>\n",
              "<table border=\"1\" class=\"dataframe\">\n",
              "  <thead>\n",
              "    <tr style=\"text-align: right;\">\n",
              "      <th></th>\n",
              "      <th>F</th>\n",
              "      <th>B/R Tc = 0.2</th>\n",
              "      <th>B/R Tc = 0.3</th>\n",
              "      <th>B/R Tc = 1</th>\n",
              "    </tr>\n",
              "  </thead>\n",
              "  <tbody>\n",
              "    <tr>\n",
              "      <th>0</th>\n",
              "      <td>0.0</td>\n",
              "      <td>0.000000</td>\n",
              "      <td>0.000000</td>\n",
              "      <td>0.000000</td>\n",
              "    </tr>\n",
              "    <tr>\n",
              "      <th>1</th>\n",
              "      <td>0.2</td>\n",
              "      <td>6.812021</td>\n",
              "      <td>6.668952</td>\n",
              "      <td>3.963396</td>\n",
              "    </tr>\n",
              "    <tr>\n",
              "      <th>2</th>\n",
              "      <td>0.4</td>\n",
              "      <td>5.705453</td>\n",
              "      <td>5.654945</td>\n",
              "      <td>3.513655</td>\n",
              "    </tr>\n",
              "    <tr>\n",
              "      <th>3</th>\n",
              "      <td>0.6</td>\n",
              "      <td>4.850672</td>\n",
              "      <td>4.864563</td>\n",
              "      <td>3.149437</td>\n",
              "    </tr>\n",
              "    <tr>\n",
              "      <th>4</th>\n",
              "      <td>0.8</td>\n",
              "      <td>4.177363</td>\n",
              "      <td>4.236484</td>\n",
              "      <td>2.849272</td>\n",
              "    </tr>\n",
              "    <tr>\n",
              "      <th>5</th>\n",
              "      <td>1.0</td>\n",
              "      <td>3.637977</td>\n",
              "      <td>3.729010</td>\n",
              "      <td>2.598179</td>\n",
              "    </tr>\n",
              "    <tr>\n",
              "      <th>6</th>\n",
              "      <td>1.2</td>\n",
              "      <td>3.199465</td>\n",
              "      <td>3.312997</td>\n",
              "      <td>2.385419</td>\n",
              "    </tr>\n",
              "    <tr>\n",
              "      <th>7</th>\n",
              "      <td>1.4</td>\n",
              "      <td>2.838304</td>\n",
              "      <td>2.967586</td>\n",
              "      <td>2.203110</td>\n",
              "    </tr>\n",
              "    <tr>\n",
              "      <th>8</th>\n",
              "      <td>1.6</td>\n",
              "      <td>2.537399</td>\n",
              "      <td>2.677537</td>\n",
              "      <td>2.045350</td>\n",
              "    </tr>\n",
              "    <tr>\n",
              "      <th>9</th>\n",
              "      <td>1.8</td>\n",
              "      <td>2.284095</td>\n",
              "      <td>2.431504</td>\n",
              "      <td>1.907639</td>\n",
              "    </tr>\n",
              "    <tr>\n",
              "      <th>10</th>\n",
              "      <td>2.0</td>\n",
              "      <td>2.068872</td>\n",
              "      <td>2.220907</td>\n",
              "      <td>1.786494</td>\n",
              "    </tr>\n",
              "    <tr>\n",
              "      <th>11</th>\n",
              "      <td>2.2</td>\n",
              "      <td>1.884461</td>\n",
              "      <td>2.039160</td>\n",
              "      <td>1.679178</td>\n",
              "    </tr>\n",
              "    <tr>\n",
              "      <th>12</th>\n",
              "      <td>2.4</td>\n",
              "      <td>1.725238</td>\n",
              "      <td>1.881140</td>\n",
              "      <td>1.583514</td>\n",
              "    </tr>\n",
              "    <tr>\n",
              "      <th>13</th>\n",
              "      <td>2.6</td>\n",
              "      <td>1.586799</td>\n",
              "      <td>1.742815</td>\n",
              "      <td>1.497751</td>\n",
              "    </tr>\n",
              "    <tr>\n",
              "      <th>14</th>\n",
              "      <td>2.8</td>\n",
              "      <td>1.465658</td>\n",
              "      <td>1.620978</td>\n",
              "      <td>1.420467</td>\n",
              "    </tr>\n",
              "    <tr>\n",
              "      <th>15</th>\n",
              "      <td>3.0</td>\n",
              "      <td>1.359027</td>\n",
              "      <td>1.513050</td>\n",
              "      <td>1.350493</td>\n",
              "    </tr>\n",
              "    <tr>\n",
              "      <th>16</th>\n",
              "      <td>3.5</td>\n",
              "      <td>1.142176</td>\n",
              "      <td>1.291277</td>\n",
              "      <td>1.201588</td>\n",
              "    </tr>\n",
              "    <tr>\n",
              "      <th>17</th>\n",
              "      <td>4.0</td>\n",
              "      <td>0.977701</td>\n",
              "      <td>1.120632</td>\n",
              "      <td>1.081460</td>\n",
              "    </tr>\n",
              "    <tr>\n",
              "      <th>18</th>\n",
              "      <td>4.5</td>\n",
              "      <td>0.849776</td>\n",
              "      <td>0.986125</td>\n",
              "      <td>0.982637</td>\n",
              "    </tr>\n",
              "    <tr>\n",
              "      <th>19</th>\n",
              "      <td>5.0</td>\n",
              "      <td>0.748137</td>\n",
              "      <td>0.877922</td>\n",
              "      <td>0.899997</td>\n",
              "    </tr>\n",
              "    <tr>\n",
              "      <th>20</th>\n",
              "      <td>100.0</td>\n",
              "      <td>0.023917</td>\n",
              "      <td>0.033471</td>\n",
              "      <td>0.051474</td>\n",
              "    </tr>\n",
              "  </tbody>\n",
              "</table>\n",
              "</div>"
            ],
            "text/plain": [
              "        F  B/R Tc = 0.2  B/R Tc = 0.3  B/R Tc = 1\n",
              "0     0.0      0.000000      0.000000    0.000000\n",
              "1     0.2      6.812021      6.668952    3.963396\n",
              "2     0.4      5.705453      5.654945    3.513655\n",
              "3     0.6      4.850672      4.864563    3.149437\n",
              "4     0.8      4.177363      4.236484    2.849272\n",
              "5     1.0      3.637977      3.729010    2.598179\n",
              "6     1.2      3.199465      3.312997    2.385419\n",
              "7     1.4      2.838304      2.967586    2.203110\n",
              "8     1.6      2.537399      2.677537    2.045350\n",
              "9     1.8      2.284095      2.431504    1.907639\n",
              "10    2.0      2.068872      2.220907    1.786494\n",
              "11    2.2      1.884461      2.039160    1.679178\n",
              "12    2.4      1.725238      1.881140    1.583514\n",
              "13    2.6      1.586799      1.742815    1.497751\n",
              "14    2.8      1.465658      1.620978    1.420467\n",
              "15    3.0      1.359027      1.513050    1.350493\n",
              "16    3.5      1.142176      1.291277    1.201588\n",
              "17    4.0      0.977701      1.120632    1.081460\n",
              "18    4.5      0.849776      0.986125    0.982637\n",
              "19    5.0      0.748137      0.877922    0.899997\n",
              "20  100.0      0.023917      0.033471    0.051474"
            ]
          },
          "metadata": {
            "tags": []
          },
          "execution_count": 17
        }
      ]
    },
    {
      "cell_type": "markdown",
      "metadata": {
        "id": "dQslBXt8E3Nq",
        "colab_type": "text"
      },
      "source": [
        "**GRÁFICOS**"
      ]
    },
    {
      "cell_type": "code",
      "metadata": {
        "id": "XAyDmR1gE2O6",
        "colab_type": "code",
        "outputId": "35eb6537-b101-49eb-b897-7b7e4a2aee6a",
        "colab": {
          "base_uri": "https://localhost:8080/",
          "height": 905
        }
      },
      "source": [
        "plt.title(\"Y/R por F desconsiderando o 100\")\n",
        "plt.plot(F[:-1],YR02[:-1], c=\"turquoise\", label='Tc = 0.2')\n",
        "plt.plot(F[:-1],YR03[:-1], c=\"navy\", label='Tc = 0.3')\n",
        "plt.plot(F[:-1],YR1[:-1], c=\"chartreuse\", label='Tc = 1')\n",
        "plt.xlabel(\"F\", fontsize= 'large' )\n",
        "plt.ylabel(\"Y/R\", fontsize= 'large')\n",
        "plt.legend (loc = 'best')\n",
        "plt.annotate(\"Tc      MSY/R      fMSY \\n0.2     4.145      2.2 \\n0.3     4.539      3.0 \\n 1       5.147      100 \", \n",
        "             (3.5,0.7),\n",
        "             bbox=dict(facecolor='none', edgecolor='silver', boxstyle='round,pad=1'))\n",
        "\n",
        "plt.show()\n",
        "\n",
        "plt.title(\"Y/R por F\")\n",
        "plt.plot(F,YR02, c=\"turquoise\", label='Tc = 0.2')\n",
        "plt.plot(F,YR03, c=\"navy\", label='Tc = 0.3')\n",
        "plt.plot(F,YR1, c=\"chartreuse\", label='Tc = 1')\n",
        "plt.xlabel(\"F\", fontsize= 'large')\n",
        "plt.ylabel(\"Y/R\", fontsize= 'large')\n",
        "plt.legend (loc = 'best')\n",
        "plt.annotate(\"Tc      MSY/R      fMSY \\n0.2     4.145      2.2 \\n0.3     4.539      3.0 \\n 1       5.147      100 \", \n",
        "             (15,0.7),\n",
        "             bbox=dict(facecolor='none', edgecolor='silver', boxstyle='round,pad=1'))\n",
        "plt.show()"
      ],
      "execution_count": 0,
      "outputs": [
        {
          "output_type": "display_data",
          "data": {
            "image/png": "[encoded data removed]",
            "text/plain": [
              "<Figure size 576x504 with 1 Axes>"
            ]
          },
          "metadata": {
            "tags": []
          }
        },
        {
          "output_type": "display_data",
          "data": {
            "image/png": "[encoded data removed]",
            "text/plain": [
              "<Figure size 576x504 with 1 Axes>"
            ]
          },
          "metadata": {
            "tags": []
          }
        }
      ]
    },
    {
      "cell_type": "code",
      "metadata": {
        "id": "dThVNtzoE65j",
        "colab_type": "code",
        "outputId": "ce13a330-6938-44dc-efe1-4c277fc3a585",
        "colab": {
          "base_uri": "https://localhost:8080/",
          "height": 905
        }
      },
      "source": [
        "plt.title(\"B/R por F desconsiderando o 100\")\n",
        "plt.plot(F[:-1],BR02[:-1], c=\"turquoise\", label='Tc = 0.2')\n",
        "plt.plot(F[:-1],BR03[:-1], c=\"navy\", label='Tc = 0.3')\n",
        "plt.plot(F[:-1],BR1[:-1], c=\"chartreuse\", label='Tc = 1')\n",
        "plt.xlabel(\"F\",fontsize= 'large')\n",
        "plt.ylabel(\"B/R\", fontsize= 'large')\n",
        "plt.legend (loc = 'best')\n",
        "plt.annotate(\"Tc      MSB      fMSB \\n0.2    6.812      0.2 \\n0.3    6.668      0.2 \\n 1      3.963      0.2 \", \n",
        "             (3.9,4.9),\n",
        "             bbox=dict(facecolor='none', edgecolor='silver', boxstyle='round,pad=0.7'))\n",
        "plt.show()\n",
        "\n",
        "plt.title(\"B/R por F\")\n",
        "plt.plot(F,BR02, c=\"turquoise\", label='Tc = 0.2')\n",
        "plt.plot(F,BR03, c=\"navy\", label='Tc = 0.3')\n",
        "plt.plot(F,BR1, c=\"chartreuse\", label='Tc = 1')\n",
        "plt.xlabel(\"F\", fontsize= 'large')\n",
        "plt.ylabel(\"B/R\", fontsize= 'large')\n",
        "plt.legend (loc = 'best')\n",
        "plt.annotate(\"Tc      MSB      fMSB \\n0.2    6.812      0.2 \\n0.3    6.668      0.2 \\n 1      3.963      0.2 \", \n",
        "             (77,4.9),\n",
        "             bbox=dict(facecolor='none', edgecolor='silver', boxstyle='round,pad=0.7'))\n",
        "plt.show()"
      ],
      "execution_count": 0,
      "outputs": [
        {
          "output_type": "display_data",
          "data": {
            "image/png": "[encoded data removed]",
            "text/plain": [
              "<Figure size 576x504 with 1 Axes>"
            ]
          },
          "metadata": {
            "tags": []
          }
        },
        {
          "output_type": "display_data",
          "data": {
            "image/png": "[encoded data removed]",
            "text/plain": [
              "<Figure size 576x504 with 1 Axes>"
            ]
          },
          "metadata": {
            "tags": []
          }
        }
      ]
    }
  ]
}